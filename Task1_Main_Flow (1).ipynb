{
  "nbformat": 4,
  "nbformat_minor": 0,
  "metadata": {
    "colab": {
      "provenance": []
    },
    "kernelspec": {
      "name": "python3",
      "display_name": "Python 3"
    },
    "language_info": {
      "name": "python"
    }
  },
  "cells": [
    {
      "cell_type": "markdown",
      "source": [
        "# Objective:\n",
        "#Analyze a dataset of student exam scores and answer specific questions, presenting findings using Python libraries and techniques for data analysis.\n",
        "\n",
        "\n",
        "---\n",
        "\n"
      ],
      "metadata": {
        "id": "GHM7B7e_WCKk"
      }
    },
    {
      "cell_type": "markdown",
      "source": [
        "# Importing Libraries\n",
        "\n",
        "---\n",
        "\n",
        "\n",
        "\n",
        "\n",
        "\n",
        "\n",
        "\n",
        "\n"
      ],
      "metadata": {
        "id": "5vtP_dXuKFR5"
      }
    },
    {
      "cell_type": "code",
      "execution_count": 2,
      "metadata": {
        "id": "NCSP3hhQC5yL"
      },
      "outputs": [],
      "source": [
        "import pandas as pd\n",
        "import matplotlib.pyplot as plt\n",
        "import seaborn as sns"
      ]
    },
    {
      "cell_type": "markdown",
      "source": [
        " # STEP 1 : Load The Dataset\n",
        "\n",
        "---\n",
        "\n",
        "\n",
        "\n",
        "\n",
        "\n"
      ],
      "metadata": {
        "id": "5l4MqmDiKgpD"
      }
    },
    {
      "cell_type": "code",
      "source": [
        "url = \"https://archive.ics.uci.edu/ml/machine-learning-databases/00320/student.zip\"\n",
        "dataset_path = \"student-mat.csv\""
      ],
      "metadata": {
        "id": "AJ7g-YT6EwuH"
      },
      "execution_count": 4,
      "outputs": []
    },
    {
      "cell_type": "markdown",
      "source": [
        "# Download And Load The Dataset\n",
        "\n",
        "---\n",
        "\n"
      ],
      "metadata": {
        "id": "SLluzUVKKdfU"
      }
    },
    {
      "cell_type": "code",
      "source": [
        "import urllib.request\n",
        "import zipfile"
      ],
      "metadata": {
        "id": "ggIJcFMgE5jv"
      },
      "execution_count": 5,
      "outputs": []
    },
    {
      "cell_type": "markdown",
      "source": [
        "# Download The Dataset\n",
        "\n",
        "---\n",
        "\n"
      ],
      "metadata": {
        "id": "OttlqeFXLAJ8"
      }
    },
    {
      "cell_type": "code",
      "source": [
        "urllib.request.urlretrieve(url, \"student.zip\")"
      ],
      "metadata": {
        "colab": {
          "base_uri": "https://localhost:8080/"
        },
        "id": "Y9pbyTdsLEgl",
        "outputId": "902ee0fd-62b4-47a8-89a1-3ae64e718187"
      },
      "execution_count": 6,
      "outputs": [
        {
          "output_type": "execute_result",
          "data": {
            "text/plain": [
              "('student.zip', <http.client.HTTPMessage at 0x7a8ba5583010>)"
            ]
          },
          "metadata": {},
          "execution_count": 6
        }
      ]
    },
    {
      "cell_type": "markdown",
      "source": [
        "# Extract The Dataset\n",
        "\n",
        "---\n",
        "\n"
      ],
      "metadata": {
        "id": "pszUblhoLaxS"
      }
    },
    {
      "cell_type": "code",
      "source": [
        "with zipfile.ZipFile(\"student.zip\",\"r\") as zip_ref:\n",
        "     zip_ref.extractall(\".\")"
      ],
      "metadata": {
        "id": "JO9_G9hcLgoa"
      },
      "execution_count": 7,
      "outputs": []
    },
    {
      "cell_type": "markdown",
      "source": [
        "# Load The Data Into DataFrame\n",
        "\n",
        "---\n",
        "\n"
      ],
      "metadata": {
        "id": "wSe-4B56Lq1H"
      }
    },
    {
      "cell_type": "code",
      "source": [
        "data = pd.read_csv(\"student-mat.csv\", sep = \";\")\n",
        "print(\"Data loaded successfully!\")"
      ],
      "metadata": {
        "colab": {
          "base_uri": "https://localhost:8080/"
        },
        "id": "viK6lMebLo0S",
        "outputId": "99e24f38-de7b-419a-ca86-e3494f23bac4"
      },
      "execution_count": 9,
      "outputs": [
        {
          "output_type": "stream",
          "name": "stdout",
          "text": [
            "Data loaded successfully!\n"
          ]
        }
      ]
    },
    {
      "cell_type": "markdown",
      "source": [
        "# STEP 2 : Data Exploration\n",
        "\n",
        "---\n",
        "\n"
      ],
      "metadata": {
        "id": "gV4HJCgBMzig"
      }
    },
    {
      "cell_type": "code",
      "source": [
        "print(data.head())       # Display the first few rows\n",
        "print(\"\\nDataset Info:\")\n",
        "print(data.info())       # Check data types and missing values"
      ],
      "metadata": {
        "colab": {
          "base_uri": "https://localhost:8080/"
        },
        "id": "gEn1iLp-M9Wp",
        "outputId": "d1134ae1-c1b6-4c5f-a017-ec7b8783358a"
      },
      "execution_count": 10,
      "outputs": [
        {
          "output_type": "stream",
          "name": "stdout",
          "text": [
            "  school sex  age address famsize Pstatus  Medu  Fedu     Mjob      Fjob  ...  \\\n",
            "0     GP   F   18       U     GT3       A     4     4  at_home   teacher  ...   \n",
            "1     GP   F   17       U     GT3       T     1     1  at_home     other  ...   \n",
            "2     GP   F   15       U     LE3       T     1     1  at_home     other  ...   \n",
            "3     GP   F   15       U     GT3       T     4     2   health  services  ...   \n",
            "4     GP   F   16       U     GT3       T     3     3    other     other  ...   \n",
            "\n",
            "  famrel freetime  goout  Dalc  Walc health absences  G1  G2  G3  \n",
            "0      4        3      4     1     1      3        6   5   6   6  \n",
            "1      5        3      3     1     1      3        4   5   5   6  \n",
            "2      4        3      2     2     3      3       10   7   8  10  \n",
            "3      3        2      2     1     1      5        2  15  14  15  \n",
            "4      4        3      2     1     2      5        4   6  10  10  \n",
            "\n",
            "[5 rows x 33 columns]\n",
            "\n",
            "Dataset Info:\n",
            "<class 'pandas.core.frame.DataFrame'>\n",
            "RangeIndex: 395 entries, 0 to 394\n",
            "Data columns (total 33 columns):\n",
            " #   Column      Non-Null Count  Dtype \n",
            "---  ------      --------------  ----- \n",
            " 0   school      395 non-null    object\n",
            " 1   sex         395 non-null    object\n",
            " 2   age         395 non-null    int64 \n",
            " 3   address     395 non-null    object\n",
            " 4   famsize     395 non-null    object\n",
            " 5   Pstatus     395 non-null    object\n",
            " 6   Medu        395 non-null    int64 \n",
            " 7   Fedu        395 non-null    int64 \n",
            " 8   Mjob        395 non-null    object\n",
            " 9   Fjob        395 non-null    object\n",
            " 10  reason      395 non-null    object\n",
            " 11  guardian    395 non-null    object\n",
            " 12  traveltime  395 non-null    int64 \n",
            " 13  studytime   395 non-null    int64 \n",
            " 14  failures    395 non-null    int64 \n",
            " 15  schoolsup   395 non-null    object\n",
            " 16  famsup      395 non-null    object\n",
            " 17  paid        395 non-null    object\n",
            " 18  activities  395 non-null    object\n",
            " 19  nursery     395 non-null    object\n",
            " 20  higher      395 non-null    object\n",
            " 21  internet    395 non-null    object\n",
            " 22  romantic    395 non-null    object\n",
            " 23  famrel      395 non-null    int64 \n",
            " 24  freetime    395 non-null    int64 \n",
            " 25  goout       395 non-null    int64 \n",
            " 26  Dalc        395 non-null    int64 \n",
            " 27  Walc        395 non-null    int64 \n",
            " 28  health      395 non-null    int64 \n",
            " 29  absences    395 non-null    int64 \n",
            " 30  G1          395 non-null    int64 \n",
            " 31  G2          395 non-null    int64 \n",
            " 32  G3          395 non-null    int64 \n",
            "dtypes: int64(16), object(17)\n",
            "memory usage: 102.0+ KB\n",
            "None\n"
          ]
        }
      ]
    },
    {
      "cell_type": "markdown",
      "source": [
        "# STEP 3 : Data Cleaning\n",
        "# Check For Missing Values\n",
        "\n",
        "---\n",
        "\n"
      ],
      "metadata": {
        "id": "_PahB1l3NE1R"
      }
    },
    {
      "cell_type": "code",
      "source": [
        "print(\"\\nMissing Values:\")\n",
        "print(data.isnull().sum())"
      ],
      "metadata": {
        "colab": {
          "base_uri": "https://localhost:8080/"
        },
        "id": "xdOK-6hdNBwq",
        "outputId": "aa161f5f-6a42-444f-94d7-538b98463d5e"
      },
      "execution_count": 11,
      "outputs": [
        {
          "output_type": "stream",
          "name": "stdout",
          "text": [
            "\n",
            "Missing Values:\n",
            "school        0\n",
            "sex           0\n",
            "age           0\n",
            "address       0\n",
            "famsize       0\n",
            "Pstatus       0\n",
            "Medu          0\n",
            "Fedu          0\n",
            "Mjob          0\n",
            "Fjob          0\n",
            "reason        0\n",
            "guardian      0\n",
            "traveltime    0\n",
            "studytime     0\n",
            "failures      0\n",
            "schoolsup     0\n",
            "famsup        0\n",
            "paid          0\n",
            "activities    0\n",
            "nursery       0\n",
            "higher        0\n",
            "internet      0\n",
            "romantic      0\n",
            "famrel        0\n",
            "freetime      0\n",
            "goout         0\n",
            "Dalc          0\n",
            "Walc          0\n",
            "health        0\n",
            "absences      0\n",
            "G1            0\n",
            "G2            0\n",
            "G3            0\n",
            "dtype: int64\n"
          ]
        }
      ]
    },
    {
      "cell_type": "markdown",
      "source": [
        "# Remove Duplicates\n",
        "\n",
        "---\n",
        "\n"
      ],
      "metadata": {
        "id": "u4aFYUZMNehb"
      }
    },
    {
      "cell_type": "code",
      "source": [
        "data = data.drop_duplicates()"
      ],
      "metadata": {
        "id": "-bS0XL77NmWC"
      },
      "execution_count": 13,
      "outputs": []
    },
    {
      "cell_type": "markdown",
      "source": [
        "# STEP 4 : Data Analysis\n",
        "# Question 1 : What is the average score in math (G3)?\n",
        "\n",
        "---\n",
        "\n"
      ],
      "metadata": {
        "id": "c1fNg5ajNqQ9"
      }
    },
    {
      "cell_type": "code",
      "source": [
        "average_score = data['G3'].mean()\n",
        "print(f\"\\nAverage Math Score(G3): {average_score:.2f}\")"
      ],
      "metadata": {
        "colab": {
          "base_uri": "https://localhost:8080/"
        },
        "id": "aZBp3H3VN3Gx",
        "outputId": "32185f42-a577-4a15-9192-e05685e0cbd4"
      },
      "execution_count": 14,
      "outputs": [
        {
          "output_type": "stream",
          "name": "stdout",
          "text": [
            "\n",
            "Average Math Score(G3): 10.42\n"
          ]
        }
      ]
    },
    {
      "cell_type": "markdown",
      "source": [
        "# Question 2 : How many students scored above 15 in their final grade (G3)?\n",
        "\n",
        "---\n",
        "\n"
      ],
      "metadata": {
        "id": "YwqVgDrkOA_G"
      }
    },
    {
      "cell_type": "code",
      "source": [
        "student_above_15 = len(data[data['G3']>15])\n",
        "print(f\"Number of students scoring above 15: {student_above_15}\")"
      ],
      "metadata": {
        "colab": {
          "base_uri": "https://localhost:8080/"
        },
        "id": "ISERmxy4N69y",
        "outputId": "bb7860d6-e160-4ce8-d6d8-2009c952facc"
      },
      "execution_count": 15,
      "outputs": [
        {
          "output_type": "stream",
          "name": "stdout",
          "text": [
            "Number of students scoring above 15: 40\n"
          ]
        }
      ]
    },
    {
      "cell_type": "markdown",
      "source": [
        "\n",
        "# Question 3 : Is there a correlation between study time and the final grade (G3)?\n",
        "---\n",
        "\n"
      ],
      "metadata": {
        "id": "s0wMCOxFOHD6"
      }
    },
    {
      "cell_type": "code",
      "source": [
        "correlation = data['studytime'].corr(data['G3'])\n",
        "print(f\"Correlation between study time and final grade: {correlation:.2f}\")"
      ],
      "metadata": {
        "colab": {
          "base_uri": "https://localhost:8080/"
        },
        "id": "m53NlMX9OYlh",
        "outputId": "8e7d696d-d1a5-4fab-8129-6f5e53a8c16e"
      },
      "execution_count": 16,
      "outputs": [
        {
          "output_type": "stream",
          "name": "stdout",
          "text": [
            "Correlation between study time and final grade: 0.10\n"
          ]
        }
      ]
    },
    {
      "cell_type": "markdown",
      "source": [
        "\n",
        "# Question 4 : Which gender has a higher average final grade (G3)?\n",
        "---\n",
        "\n"
      ],
      "metadata": {
        "id": "-_cLRVU5Oduq"
      }
    },
    {
      "cell_type": "code",
      "source": [
        "average_grade_by_gender = data.groupby('sex')['G3'].mean()\n",
        "print(\"\\nAverage Final Grade by Gender:\")\n",
        "print(average_grade_by_gender)"
      ],
      "metadata": {
        "colab": {
          "base_uri": "https://localhost:8080/"
        },
        "id": "7kVpDKNtOlhV",
        "outputId": "d39b905e-570b-4129-a40c-675a4bc6bd86"
      },
      "execution_count": 17,
      "outputs": [
        {
          "output_type": "stream",
          "name": "stdout",
          "text": [
            "\n",
            "Average Final Grade by Gender:\n",
            "sex\n",
            "F     9.966346\n",
            "M    10.914439\n",
            "Name: G3, dtype: float64\n"
          ]
        }
      ]
    },
    {
      "cell_type": "markdown",
      "source": [
        "# STEP 5 : Data Visualization\n",
        "# (a) Plot a Histogram of final grades (G3)\n",
        "\n",
        "---\n",
        "\n"
      ],
      "metadata": {
        "id": "QF17eyB1Oth2"
      }
    },
    {
      "cell_type": "code",
      "source": [
        "plt.figure(figsize=(8,5))\n",
        "plt.hist(data['G3'], bins=10, color='skyblue', edgecolor='black')\n",
        "plt.title(\"Distribution Of Final Grades(G3)\")\n",
        "plt.xlabel(\"Final Grade\")\n",
        "plt.ylabel(\"Frequency\")\n",
        "plt.show()"
      ],
      "metadata": {
        "colab": {
          "base_uri": "https://localhost:8080/",
          "height": 487
        },
        "id": "ySagqkz3OsWg",
        "outputId": "a2723f55-6624-4fdd-d760-15258aa79f19"
      },
      "execution_count": 18,
      "outputs": [
        {
          "output_type": "display_data",
          "data": {
            "text/plain": [
              "<Figure size 800x500 with 1 Axes>"
            ],
            "image/png": "[encoded data removed]"
          },
          "metadata": {}
        }
      ]
    },
    {
      "cell_type": "markdown",
      "source": [
        "\n",
        "# (b) Plot a Scatter plot between study time and final grade (G3)\n",
        "---\n",
        "\n"
      ],
      "metadata": {
        "id": "cg5Cu9dLPCxd"
      }
    },
    {
      "cell_type": "code",
      "source": [
        "plt.figure(figsize=(8,5))\n",
        "sns.scatterplot(data=data, x= 'studytime', y='G3', hue='sex')\n",
        "plt.title(\"Study Time vs Final Grade\")\n",
        "plt.xlabel(\"Study Time (hours)\")\n",
        "plt.ylabel(\"Final Grade\")\n",
        "plt.legend(title=\"Gender\")\n",
        "plt.show()"
      ],
      "metadata": {
        "colab": {
          "base_uri": "https://localhost:8080/",
          "height": 487
        },
        "id": "t6c4pISvOqZY",
        "outputId": "9b8bd684-75d1-48f9-8b55-b80ce16ad271"
      },
      "execution_count": 19,
      "outputs": [
        {
          "output_type": "display_data",
          "data": {
            "text/plain": [
              "<Figure size 800x500 with 1 Axes>"
            ],
            "image/png": "[encoded data removed]"
          },
          "metadata": {}
        }
      ]
    },
    {
      "cell_type": "markdown",
      "source": [
        "\n",
        "# (c) Plot a Bar Chart comparing the average scores of male and female students\n",
        "---\n",
        "\n"
      ],
      "metadata": {
        "id": "mR6lNv7iPKOW"
      }
    },
    {
      "cell_type": "code",
      "source": [
        "plt.figure(figsize=(8,5))\n",
        "average_grade_by_gender.plot(kind='bar', color=['blue','pink'])\n",
        "plt.title(\"Average Final Grade By Gender\")\n",
        "plt.ylabel(\"Average Final Grade\")\n",
        "plt.xlabel(\"Gender\")\n",
        "plt.xticks(rotation=0)\n",
        "plt.show()"
      ],
      "metadata": {
        "colab": {
          "base_uri": "https://localhost:8080/",
          "height": 487
        },
        "id": "QG5MjUAkPH5S",
        "outputId": "74eb36a9-8dc3-4080-ccc0-83dfc99bfed9"
      },
      "execution_count": 20,
      "outputs": [
        {
          "output_type": "display_data",
          "data": {
            "text/plain": [
              "<Figure size 800x500 with 1 Axes>"
            ],
            "image/png": "[encoded data removed]"
          },
          "metadata": {}
        }
      ]
    },
    {
      "cell_type": "code",
      "source": [],
      "metadata": {
        "id": "85ypBo-aPSeN"
      },
      "execution_count": null,
      "outputs": []
    }
  ]
}